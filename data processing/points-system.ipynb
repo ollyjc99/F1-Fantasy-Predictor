{
 "cells": [
  {
   "cell_type": "code",
   "execution_count": 22,
   "metadata": {},
   "outputs": [],
   "source": [
    "import pandas as pd\n",
    "import numpy as np\n",
    "\n",
    "from sys import platform\n",
    "\n",
    "if platform == \"win32\":\n",
    "    path = 'C:/Users/olive/GitHub/F1-Fantasy-Predictor/'\n",
    "elif platform == \"darwin\":\n",
    "    path = '~/Documents/GitHub/F1-Fantasy-Predictor/'"
   ]
  },
  {
   "cell_type": "code",
   "execution_count": 23,
   "metadata": {},
   "outputs": [],
   "source": [
    "data = pd.read_csv(path+'data/processed.csv')"
   ]
  },
  {
   "cell_type": "code",
   "execution_count": null,
   "metadata": {},
   "outputs": [],
   "source": [
    "# Position gained = +1\n",
    "# Positions lost = -1\n",
    "# Points per overtake"
   ]
  },
  {
   "cell_type": "code",
   "execution_count": null,
   "metadata": {},
   "outputs": [],
   "source": [
    "q_position = {\n",
    "    1: 10,\n",
    "    2: 9,\n",
    "    3: 8,\n",
    "    4: 7,\n",
    "    5: 6,\n",
    "    6: 5,\n",
    "    7: 4,\n",
    "    8: 3,\n",
    "    9: 2,\n",
    "    10: 1,\n",
    "    11: 0,\n",
    "    12: 0,\n",
    "    13: 0,\n",
    "    14: 0,\n",
    "    15: 0,\n",
    "    16: 0,\n",
    "    17: 0,\n",
    "    18: 0,\n",
    "    19: 0,\n",
    "    20: 0\n",
    "}\n",
    "s_position = {\n",
    "    1: 8,\n",
    "    2: 7,\n",
    "    3: 6,\n",
    "    4: 5,\n",
    "    5: 4,\n",
    "    6: 3,\n",
    "    7: 2,\n",
    "    8: 1,\n",
    "    9: 0,\n",
    "    10: 0,\n",
    "    11: 0,\n",
    "    12: 0,\n",
    "    13: 0,\n",
    "    14: 0,\n",
    "    15: 0,\n",
    "    16: 0,\n",
    "    17: 0,\n",
    "    18: 0,\n",
    "    19: 0,\n",
    "    20: 0\n",
    "}\n",
    "r_position = {\n",
    "    1: 25,\n",
    "    2: 18,\n",
    "    3: 15,\n",
    "    4: 12,\n",
    "    5: 10,\n",
    "    6: 8,\n",
    "    7: 6,\n",
    "    8: 4,\n",
    "    9: 2,\n",
    "    10: 1,\n",
    "    11: 0,\n",
    "    12: 0,\n",
    "    13: 0,\n",
    "    14: 0,\n",
    "    15: 0,\n",
    "    16: 0,\n",
    "    17: 0,\n",
    "    18: 0,\n",
    "    19: 0,\n",
    "    20: 0\n",
    "}"
   ]
  }
 ],
 "metadata": {
  "kernelspec": {
   "display_name": "Python 3.11.0 64-bit",
   "language": "python",
   "name": "python3"
  },
  "language_info": {
   "codemirror_mode": {
    "name": "ipython",
    "version": 3
   },
   "file_extension": ".py",
   "mimetype": "text/x-python",
   "name": "python",
   "nbconvert_exporter": "python",
   "pygments_lexer": "ipython3",
   "version": "3.11.0"
  },
  "orig_nbformat": 4,
  "vscode": {
   "interpreter": {
    "hash": "aee8b7b246df8f9039afb4144a1f6fd8d2ca17a180786b69acc140d282b71a49"
   }
  }
 },
 "nbformat": 4,
 "nbformat_minor": 2
}
