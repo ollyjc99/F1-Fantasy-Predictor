{
 "cells": [
  {
   "cell_type": "code",
   "execution_count": 25,
   "metadata": {},
   "outputs": [],
   "source": [
    "import pandas as pd\n",
    "import numpy as np\n",
    "import warnings\n",
    "\n",
    "from sklearn.preprocessing import StandardScaler\n",
    "from sklearn.neural_network import MLPRegressor\n",
    "\n",
    "from sys import platform\n",
    "\n",
    "if platform == \"win32\":\n",
    "    path = 'C:/Users/olive/GitHub/F1-Fantasy-Predictor/'\n",
    "elif platform == \"darwin\":\n",
    "    path = '~/Documents/GitHub/F1-Fantasy-Predictor/'\n",
    "\n",
    "warnings.filterwarnings(\"ignore\", category=RuntimeWarning) \n",
    "pd.options.mode.chained_assignment = None  # default='warn'\n",
    "\n",
    "%matplotlib inline"
   ]
  },
  {
   "cell_type": "code",
   "execution_count": 26,
   "metadata": {},
   "outputs": [],
   "source": [
    "data = pd.read_csv(path+'data/ml_input.csv')\n",
    "parameters = pd.read_csv(path+'parameters/neutralnetworkregressor.csv')"
   ]
  },
  {
   "cell_type": "code",
   "execution_count": 27,
   "metadata": {},
   "outputs": [],
   "source": [
    "N = 2023"
   ]
  },
  {
   "cell_type": "code",
   "execution_count": 28,
   "metadata": {},
   "outputs": [],
   "source": [
    "params_to_drop = ['season', 'round', 'driver', 'constructor', 'circuit_id', 'podium', 'driver_points_from']"
   ]
  },
  {
   "cell_type": "code",
   "execution_count": 29,
   "metadata": {},
   "outputs": [],
   "source": [
    "df = data.copy()\n",
    "\n",
    "train = df[df.season < N]\n",
    "\n",
    "scaler = StandardScaler()\n",
    "\n",
    "X_train = train.drop(params_to_drop, axis=1)\n",
    "X_train = pd.DataFrame(scaler.fit_transform(X_train), columns=X_train.columns)\n",
    "\n",
    "y_train = np.asarray(train.driver_points_from.values)"
   ]
  },
  {
   "cell_type": "code",
   "execution_count": 30,
   "metadata": {},
   "outputs": [
    {
     "name": "stdout",
     "output_type": "stream",
     "text": [
      "season round podium driver constructor circuit_id driver_points_from qualifying_pos starting_grid stage_q3 driver_points_per constructor_points_per constructor_points_before driver_points_before driver_wins_before constructor_wins_before constructor_standings_before driver_standings_before driver_last_3 constructor_last_3\n"
     ]
    }
   ],
   "source": [
    "print(*data.columns)"
   ]
  },
  {
   "cell_type": "code",
   "execution_count": 31,
   "metadata": {},
   "outputs": [],
   "source": [
    "def get_predictions(X_train, y_train, model):\n",
    "    points = []\n",
    "    winners = []\n",
    "    for circuit in df[df.season == N]['round'].unique():\n",
    "\n",
    "        test = df[(df.season == N) & (df['round'] == circuit)]\n",
    "        X_test = test.drop(params_to_drop, axis=1)\n",
    "        y_test = test.driver_points_from\n",
    "\n",
    "        # Scaling\n",
    "        X_test = pd.DataFrame(scaler.transform(X_test), columns=X_test.columns)\n",
    "\n",
    "        # Make predictions\n",
    "        prediction_df = pd.DataFrame(model.predict(X_test), columns=['predicted_points'])\n",
    "        prediction_df['actual_points'] = y_test.reset_index(drop=True)\n",
    "\n",
    "        prediction_df['predicted_winner'] = prediction_df.predicted_points.map(lambda x: 1 if x == prediction_df.predicted_points.max() else 0)\n",
    "        prediction_df['actual_winner'] = prediction_df.actual_points.map(lambda x: 1 if x == prediction_df.actual_points.max() else 0)\n",
    "\n",
    "        winners += list(prediction_df.predicted_winner.values)\n",
    "        points += list(prediction_df.predicted_points.values)\n",
    "        \n",
    "\n",
    "        # # Retrain model\n",
    "        # X_train = pd.concat([X_train, X_test])\n",
    "        # y_train = np.append(y_train, y_test)\n",
    "\n",
    "\n",
    "        # model.fit(X_train, y_train)\n",
    "\n",
    "    return points, winners"
   ]
  },
  {
   "cell_type": "code",
   "execution_count": 32,
   "metadata": {},
   "outputs": [
    {
     "data": {
      "text/plain": [
       "Unnamed: 0                           959\n",
       "model                       nn_regressor\n",
       "hidden_layer_sizes    (200, 100, 50, 25)\n",
       "activation                          tanh\n",
       "solver                              adam\n",
       "alpha                               10.0\n",
       "score                           0.736842\n",
       "Name: 0, dtype: object"
      ]
     },
     "execution_count": 32,
     "metadata": {},
     "output_type": "execute_result"
    }
   ],
   "source": [
    "params = parameters.iloc[0]\n",
    "hidden_layer_sizes = eval(params.hidden_layer_sizes)\n",
    "activation = params.activation\n",
    "solver = params.solver\n",
    "alpha = params.alpha\n",
    "\n",
    "params"
   ]
  },
  {
   "cell_type": "code",
   "execution_count": 33,
   "metadata": {},
   "outputs": [],
   "source": [
    "test = df[(df.season == N)]\n",
    "\n",
    "model = MLPRegressor(\n",
    "    hidden_layer_sizes=hidden_layer_sizes,\n",
    "    activation=activation, \n",
    "    solver=solver, \n",
    "    alpha=alpha, \n",
    "    random_state=1)\n",
    "    \n",
    "model.fit(X_train, y_train)\n",
    "\n",
    "points, winner = get_predictions(X_train, y_train, model)\n",
    "\n",
    "test['predicted_points'] = points\n",
    "test['predicted_winner'] = winner"
   ]
  },
  {
   "cell_type": "code",
   "execution_count": 34,
   "metadata": {},
   "outputs": [
    {
     "ename": "ZeroDivisionError",
     "evalue": "division by zero",
     "output_type": "error",
     "traceback": [
      "\u001b[0;31m---------------------------------------------------------------------------\u001b[0m",
      "\u001b[0;31mZeroDivisionError\u001b[0m                         Traceback (most recent call last)",
      "\u001b[1;32m/Users/oliverjcarter/Documents/GitHub/F1-Fantasy-Predictor/data modelling/predict/NeuralNetworkRegressor.ipynb Cell 10\u001b[0m in \u001b[0;36m3\n\u001b[1;32m      <a href='vscode-notebook-cell:/Users/oliverjcarter/Documents/GitHub/F1-Fantasy-Predictor/data%20modelling/predict/NeuralNetworkRegressor.ipynb#X12sZmlsZQ%3D%3D?line=0'>1</a>\u001b[0m rounds \u001b[39m=\u001b[39m test[\u001b[39m'\u001b[39m\u001b[39mround\u001b[39m\u001b[39m'\u001b[39m]\u001b[39m.\u001b[39mnunique()\n\u001b[0;32m----> <a href='vscode-notebook-cell:/Users/oliverjcarter/Documents/GitHub/F1-Fantasy-Predictor/data%20modelling/predict/NeuralNetworkRegressor.ipynb#X12sZmlsZQ%3D%3D?line=2'>3</a>\u001b[0m \u001b[39mprint\u001b[39m(\u001b[39mf\u001b[39m\u001b[39m'\u001b[39m\u001b[39mOutright Winner Accuracy: \u001b[39m\u001b[39m{\u001b[39;00m \u001b[39mround\u001b[39m(test\u001b[39m.\u001b[39;49mquery(\u001b[39m\"\u001b[39;49m\u001b[39mpredicted_winner == 1 & podium == 1\u001b[39;49m\u001b[39m\"\u001b[39;49m)\u001b[39m.\u001b[39;49mshape[\u001b[39m0\u001b[39;49m] \u001b[39m/\u001b[39;49m rounds, \u001b[39m2\u001b[39m) \u001b[39m}\u001b[39;00m\u001b[39m'\u001b[39m)\n\u001b[1;32m      <a href='vscode-notebook-cell:/Users/oliverjcarter/Documents/GitHub/F1-Fantasy-Predictor/data%20modelling/predict/NeuralNetworkRegressor.ipynb#X12sZmlsZQ%3D%3D?line=4'>5</a>\u001b[0m \u001b[39mprint\u001b[39m(\u001b[39mf\u001b[39m\u001b[39m'\u001b[39m\u001b[39mTop-Two Accuracy: \u001b[39m\u001b[39m{\u001b[39;00m \u001b[39mround\u001b[39m(test\u001b[39m.\u001b[39mquery(\u001b[39m\"\u001b[39m\u001b[39mpredicted_winner == 1 & podium <= 2\u001b[39m\u001b[39m\"\u001b[39m)\u001b[39m.\u001b[39mshape[\u001b[39m0\u001b[39m] \u001b[39m/\u001b[39m rounds, \u001b[39m2\u001b[39m) \u001b[39m}\u001b[39;00m\u001b[39m'\u001b[39m)\n\u001b[1;32m      <a href='vscode-notebook-cell:/Users/oliverjcarter/Documents/GitHub/F1-Fantasy-Predictor/data%20modelling/predict/NeuralNetworkRegressor.ipynb#X12sZmlsZQ%3D%3D?line=6'>7</a>\u001b[0m \u001b[39mprint\u001b[39m(\u001b[39mf\u001b[39m\u001b[39m'\u001b[39m\u001b[39mPodium Accuracy: \u001b[39m\u001b[39m{\u001b[39;00m \u001b[39mround\u001b[39m(test\u001b[39m.\u001b[39mquery(\u001b[39m\"\u001b[39m\u001b[39mpredicted_winner == 1 & podium <= 3\u001b[39m\u001b[39m\"\u001b[39m)\u001b[39m.\u001b[39mshape[\u001b[39m0\u001b[39m] \u001b[39m/\u001b[39m rounds, \u001b[39m2\u001b[39m) \u001b[39m}\u001b[39;00m\u001b[39m'\u001b[39m)\n",
      "\u001b[0;31mZeroDivisionError\u001b[0m: division by zero"
     ]
    }
   ],
   "source": [
    "rounds = test['round'].nunique()\n",
    "\n",
    "print(f'Outright Winner Accuracy: { round(test.query(\"predicted_winner == 1 & podium == 1\").shape[0] / rounds, 2) }')\n",
    "\n",
    "print(f'Top-Two Accuracy: { round(test.query(\"predicted_winner == 1 & podium <= 2\").shape[0] / rounds, 2) }')\n",
    "\n",
    "print(f'Podium Accuracy: { round(test.query(\"predicted_winner == 1 & podium <= 3\").shape[0] / rounds, 2) }')"
   ]
  },
  {
   "cell_type": "code",
   "execution_count": null,
   "metadata": {},
   "outputs": [],
   "source": [
    "def highlight_row(row):\n",
    "    if row['podium'] == 1:\n",
    "        return ['background-color: limegreen; opacity: 1'] * len(row)\n",
    "    elif 1 < row['podium'] <= 3:\n",
    "        return ['background-color: yellow; opacity: 1; color: black'] * len(row)\n",
    "    elif 3 < row['podium'] <= 10:\n",
    "        return ['background-color: orange'] * len(row)\n",
    "    elif row['podium'] > 10:\n",
    "        return ['background-color: #E34234'] * len(row)"
   ]
  },
  {
   "cell_type": "code",
   "execution_count": null,
   "metadata": {},
   "outputs": [
    {
     "data": {
      "text/html": [
       "<style type=\"text/css\">\n",
       "#T_807e8_row0_col0, #T_807e8_row0_col1, #T_807e8_row0_col2, #T_807e8_row0_col3, #T_807e8_row0_col4 {\n",
       "  color: white;\n",
       "  background-color: limegreen;\n",
       "  opacity: 1;\n",
       "}\n",
       "#T_807e8_row1_col0, #T_807e8_row1_col1, #T_807e8_row1_col2, #T_807e8_row1_col3, #T_807e8_row1_col4, #T_807e8_row3_col0, #T_807e8_row3_col1, #T_807e8_row3_col2, #T_807e8_row3_col3, #T_807e8_row3_col4, #T_807e8_row10_col0, #T_807e8_row10_col1, #T_807e8_row10_col2, #T_807e8_row10_col3, #T_807e8_row10_col4, #T_807e8_row11_col0, #T_807e8_row11_col1, #T_807e8_row11_col2, #T_807e8_row11_col3, #T_807e8_row11_col4, #T_807e8_row12_col0, #T_807e8_row12_col1, #T_807e8_row12_col2, #T_807e8_row12_col3, #T_807e8_row12_col4, #T_807e8_row13_col0, #T_807e8_row13_col1, #T_807e8_row13_col2, #T_807e8_row13_col3, #T_807e8_row13_col4, #T_807e8_row16_col0, #T_807e8_row16_col1, #T_807e8_row16_col2, #T_807e8_row16_col3, #T_807e8_row16_col4, #T_807e8_row17_col0, #T_807e8_row17_col1, #T_807e8_row17_col2, #T_807e8_row17_col3, #T_807e8_row17_col4, #T_807e8_row18_col0, #T_807e8_row18_col1, #T_807e8_row18_col2, #T_807e8_row18_col3, #T_807e8_row18_col4, #T_807e8_row19_col0, #T_807e8_row19_col1, #T_807e8_row19_col2, #T_807e8_row19_col3, #T_807e8_row19_col4 {\n",
       "  color: white;\n",
       "  background-color: #E34234;\n",
       "}\n",
       "#T_807e8_row2_col0, #T_807e8_row2_col1, #T_807e8_row2_col2, #T_807e8_row2_col3, #T_807e8_row2_col4, #T_807e8_row4_col0, #T_807e8_row4_col1, #T_807e8_row4_col2, #T_807e8_row4_col3, #T_807e8_row4_col4 {\n",
       "  color: white;\n",
       "  background-color: yellow;\n",
       "  opacity: 1;\n",
       "  color: black;\n",
       "}\n",
       "#T_807e8_row5_col0, #T_807e8_row5_col1, #T_807e8_row5_col2, #T_807e8_row5_col3, #T_807e8_row5_col4, #T_807e8_row6_col0, #T_807e8_row6_col1, #T_807e8_row6_col2, #T_807e8_row6_col3, #T_807e8_row6_col4, #T_807e8_row7_col0, #T_807e8_row7_col1, #T_807e8_row7_col2, #T_807e8_row7_col3, #T_807e8_row7_col4, #T_807e8_row8_col0, #T_807e8_row8_col1, #T_807e8_row8_col2, #T_807e8_row8_col3, #T_807e8_row8_col4, #T_807e8_row9_col0, #T_807e8_row9_col1, #T_807e8_row9_col2, #T_807e8_row9_col3, #T_807e8_row9_col4, #T_807e8_row14_col0, #T_807e8_row14_col1, #T_807e8_row14_col2, #T_807e8_row14_col3, #T_807e8_row14_col4, #T_807e8_row15_col0, #T_807e8_row15_col1, #T_807e8_row15_col2, #T_807e8_row15_col3, #T_807e8_row15_col4 {\n",
       "  color: white;\n",
       "  background-color: orange;\n",
       "}\n",
       "</style>\n",
       "<table id=\"T_807e8\">\n",
       "  <thead>\n",
       "    <tr>\n",
       "      <th class=\"blank level0\" >&nbsp;</th>\n",
       "      <th id=\"T_807e8_level0_col0\" class=\"col_heading level0 col0\" >circuit_id</th>\n",
       "      <th id=\"T_807e8_level0_col1\" class=\"col_heading level0 col1\" >driver</th>\n",
       "      <th id=\"T_807e8_level0_col2\" class=\"col_heading level0 col2\" >podium</th>\n",
       "      <th id=\"T_807e8_level0_col3\" class=\"col_heading level0 col3\" >starting_grid</th>\n",
       "      <th id=\"T_807e8_level0_col4\" class=\"col_heading level0 col4\" >predicted_points</th>\n",
       "    </tr>\n",
       "  </thead>\n",
       "  <tbody>\n",
       "    <tr>\n",
       "      <th id=\"T_807e8_level0_row0\" class=\"row_heading level0 row0\" >3139</th>\n",
       "      <td id=\"T_807e8_row0_col0\" class=\"data row0 col0\" >bahrain</td>\n",
       "      <td id=\"T_807e8_row0_col1\" class=\"data row0 col1\" >charles_leclerc</td>\n",
       "      <td id=\"T_807e8_row0_col2\" class=\"data row0 col2\" >1</td>\n",
       "      <td id=\"T_807e8_row0_col3\" class=\"data row0 col3\" >1</td>\n",
       "      <td id=\"T_807e8_row0_col4\" class=\"data row0 col4\" >14.893667</td>\n",
       "    </tr>\n",
       "    <tr>\n",
       "      <th id=\"T_807e8_level0_row1\" class=\"row_heading level0 row1\" >3157</th>\n",
       "      <td id=\"T_807e8_row1_col0\" class=\"data row1 col0\" >bahrain</td>\n",
       "      <td id=\"T_807e8_row1_col1\" class=\"data row1 col1\" >max_verstappen</td>\n",
       "      <td id=\"T_807e8_row1_col2\" class=\"data row1 col2\" >19</td>\n",
       "      <td id=\"T_807e8_row1_col3\" class=\"data row1 col3\" >2</td>\n",
       "      <td id=\"T_807e8_row1_col4\" class=\"data row1 col4\" >13.811583</td>\n",
       "    </tr>\n",
       "    <tr>\n",
       "      <th id=\"T_807e8_level0_row2\" class=\"row_heading level0 row2\" >3140</th>\n",
       "      <td id=\"T_807e8_row2_col0\" class=\"data row2 col0\" >bahrain</td>\n",
       "      <td id=\"T_807e8_row2_col1\" class=\"data row2 col1\" >carlos_sainz</td>\n",
       "      <td id=\"T_807e8_row2_col2\" class=\"data row2 col2\" >2</td>\n",
       "      <td id=\"T_807e8_row2_col3\" class=\"data row2 col3\" >3</td>\n",
       "      <td id=\"T_807e8_row2_col4\" class=\"data row2 col4\" >12.262275</td>\n",
       "    </tr>\n",
       "    <tr>\n",
       "      <th id=\"T_807e8_level0_row3\" class=\"row_heading level0 row3\" >3156</th>\n",
       "      <td id=\"T_807e8_row3_col0\" class=\"data row3 col0\" >bahrain</td>\n",
       "      <td id=\"T_807e8_row3_col1\" class=\"data row3 col1\" >sergio_perez</td>\n",
       "      <td id=\"T_807e8_row3_col2\" class=\"data row3 col2\" >18</td>\n",
       "      <td id=\"T_807e8_row3_col3\" class=\"data row3 col3\" >4</td>\n",
       "      <td id=\"T_807e8_row3_col4\" class=\"data row3 col4\" >10.355555</td>\n",
       "    </tr>\n",
       "    <tr>\n",
       "      <th id=\"T_807e8_level0_row4\" class=\"row_heading level0 row4\" >3141</th>\n",
       "      <td id=\"T_807e8_row4_col0\" class=\"data row4 col0\" >bahrain</td>\n",
       "      <td id=\"T_807e8_row4_col1\" class=\"data row4 col1\" >lewis_hamilton</td>\n",
       "      <td id=\"T_807e8_row4_col2\" class=\"data row4 col2\" >3</td>\n",
       "      <td id=\"T_807e8_row4_col3\" class=\"data row4 col3\" >5</td>\n",
       "      <td id=\"T_807e8_row4_col4\" class=\"data row4 col4\" >8.410139</td>\n",
       "    </tr>\n",
       "    <tr>\n",
       "      <th id=\"T_807e8_level0_row5\" class=\"row_heading level0 row5\" >3144</th>\n",
       "      <td id=\"T_807e8_row5_col0\" class=\"data row5 col0\" >bahrain</td>\n",
       "      <td id=\"T_807e8_row5_col1\" class=\"data row5 col1\" >valtteri_bottas</td>\n",
       "      <td id=\"T_807e8_row5_col2\" class=\"data row5 col2\" >6</td>\n",
       "      <td id=\"T_807e8_row5_col3\" class=\"data row5 col3\" >6</td>\n",
       "      <td id=\"T_807e8_row5_col4\" class=\"data row5 col4\" >6.694172</td>\n",
       "    </tr>\n",
       "    <tr>\n",
       "      <th id=\"T_807e8_level0_row6\" class=\"row_heading level0 row6\" >3143</th>\n",
       "      <td id=\"T_807e8_row6_col0\" class=\"data row6 col0\" >bahrain</td>\n",
       "      <td id=\"T_807e8_row6_col1\" class=\"data row6 col1\" >kevin_magnussen</td>\n",
       "      <td id=\"T_807e8_row6_col2\" class=\"data row6 col2\" >5</td>\n",
       "      <td id=\"T_807e8_row6_col3\" class=\"data row6 col3\" >7</td>\n",
       "      <td id=\"T_807e8_row6_col4\" class=\"data row6 col4\" >5.290995</td>\n",
       "    </tr>\n",
       "    <tr>\n",
       "      <th id=\"T_807e8_level0_row7\" class=\"row_heading level0 row7\" >3147</th>\n",
       "      <td id=\"T_807e8_row7_col0\" class=\"data row7 col0\" >bahrain</td>\n",
       "      <td id=\"T_807e8_row7_col1\" class=\"data row7 col1\" >fernando_alonso</td>\n",
       "      <td id=\"T_807e8_row7_col2\" class=\"data row7 col2\" >9</td>\n",
       "      <td id=\"T_807e8_row7_col3\" class=\"data row7 col3\" >8</td>\n",
       "      <td id=\"T_807e8_row7_col4\" class=\"data row7 col4\" >4.183418</td>\n",
       "    </tr>\n",
       "    <tr>\n",
       "      <th id=\"T_807e8_level0_row8\" class=\"row_heading level0 row8\" >3142</th>\n",
       "      <td id=\"T_807e8_row8_col0\" class=\"data row8 col0\" >bahrain</td>\n",
       "      <td id=\"T_807e8_row8_col1\" class=\"data row8 col1\" >george_russell</td>\n",
       "      <td id=\"T_807e8_row8_col2\" class=\"data row8 col2\" >4</td>\n",
       "      <td id=\"T_807e8_row8_col3\" class=\"data row8 col3\" >9</td>\n",
       "      <td id=\"T_807e8_row8_col4\" class=\"data row8 col4\" >3.326779</td>\n",
       "    </tr>\n",
       "    <tr>\n",
       "      <th id=\"T_807e8_level0_row9\" class=\"row_heading level0 row9\" >3145</th>\n",
       "      <td id=\"T_807e8_row9_col0\" class=\"data row9 col0\" >bahrain</td>\n",
       "      <td id=\"T_807e8_row9_col1\" class=\"data row9 col1\" >esteban_ocon</td>\n",
       "      <td id=\"T_807e8_row9_col2\" class=\"data row9 col2\" >7</td>\n",
       "      <td id=\"T_807e8_row9_col3\" class=\"data row9 col3\" >11</td>\n",
       "      <td id=\"T_807e8_row9_col4\" class=\"data row9 col4\" >2.944411</td>\n",
       "    </tr>\n",
       "    <tr>\n",
       "      <th id=\"T_807e8_level0_row10\" class=\"row_heading level0 row10\" >3158</th>\n",
       "      <td id=\"T_807e8_row10_col0\" class=\"data row10 col0\" >bahrain</td>\n",
       "      <td id=\"T_807e8_row10_col1\" class=\"data row10 col1\" >pierre_gasly</td>\n",
       "      <td id=\"T_807e8_row10_col2\" class=\"data row10 col2\" >20</td>\n",
       "      <td id=\"T_807e8_row10_col3\" class=\"data row10 col3\" >10</td>\n",
       "      <td id=\"T_807e8_row10_col4\" class=\"data row10 col4\" >2.672321</td>\n",
       "    </tr>\n",
       "    <tr>\n",
       "      <th id=\"T_807e8_level0_row11\" class=\"row_heading level0 row11\" >3149</th>\n",
       "      <td id=\"T_807e8_row11_col0\" class=\"data row11 col0\" >bahrain</td>\n",
       "      <td id=\"T_807e8_row11_col1\" class=\"data row11 col1\" >mick_schumacher</td>\n",
       "      <td id=\"T_807e8_row11_col2\" class=\"data row11 col2\" >11</td>\n",
       "      <td id=\"T_807e8_row11_col3\" class=\"data row11 col3\" >12</td>\n",
       "      <td id=\"T_807e8_row11_col4\" class=\"data row11 col4\" >2.156974</td>\n",
       "    </tr>\n",
       "    <tr>\n",
       "      <th id=\"T_807e8_level0_row12\" class=\"row_heading level0 row12\" >3153</th>\n",
       "      <td id=\"T_807e8_row12_col0\" class=\"data row12 col0\" >bahrain</td>\n",
       "      <td id=\"T_807e8_row12_col1\" class=\"data row12 col1\" >lando_norris</td>\n",
       "      <td id=\"T_807e8_row12_col2\" class=\"data row12 col2\" >15</td>\n",
       "      <td id=\"T_807e8_row12_col3\" class=\"data row12 col3\" >13</td>\n",
       "      <td id=\"T_807e8_row12_col4\" class=\"data row12 col4\" >1.570261</td>\n",
       "    </tr>\n",
       "    <tr>\n",
       "      <th id=\"T_807e8_level0_row13\" class=\"row_heading level0 row13\" >3151</th>\n",
       "      <td id=\"T_807e8_row13_col0\" class=\"data row13 col0\" >bahrain</td>\n",
       "      <td id=\"T_807e8_row13_col1\" class=\"data row13 col1\" >alexander_albon</td>\n",
       "      <td id=\"T_807e8_row13_col2\" class=\"data row13 col2\" >13</td>\n",
       "      <td id=\"T_807e8_row13_col3\" class=\"data row13 col3\" >14</td>\n",
       "      <td id=\"T_807e8_row13_col4\" class=\"data row13 col4\" >1.135446</td>\n",
       "    </tr>\n",
       "    <tr>\n",
       "      <th id=\"T_807e8_level0_row14\" class=\"row_heading level0 row14\" >3148</th>\n",
       "      <td id=\"T_807e8_row14_col0\" class=\"data row14 col0\" >bahrain</td>\n",
       "      <td id=\"T_807e8_row14_col1\" class=\"data row14 col1\" >zhou_guanyu</td>\n",
       "      <td id=\"T_807e8_row14_col2\" class=\"data row14 col2\" >10</td>\n",
       "      <td id=\"T_807e8_row14_col3\" class=\"data row14 col3\" >15</td>\n",
       "      <td id=\"T_807e8_row14_col4\" class=\"data row14 col4\" >0.814198</td>\n",
       "    </tr>\n",
       "    <tr>\n",
       "      <th id=\"T_807e8_level0_row15\" class=\"row_heading level0 row15\" >3146</th>\n",
       "      <td id=\"T_807e8_row15_col0\" class=\"data row15 col0\" >bahrain</td>\n",
       "      <td id=\"T_807e8_row15_col1\" class=\"data row15 col1\" >yuki_tsunoda</td>\n",
       "      <td id=\"T_807e8_row15_col2\" class=\"data row15 col2\" >8</td>\n",
       "      <td id=\"T_807e8_row15_col3\" class=\"data row15 col3\" >16</td>\n",
       "      <td id=\"T_807e8_row15_col4\" class=\"data row15 col4\" >0.577547</td>\n",
       "    </tr>\n",
       "    <tr>\n",
       "      <th id=\"T_807e8_level0_row16\" class=\"row_heading level0 row16\" >3155</th>\n",
       "      <td id=\"T_807e8_row16_col0\" class=\"data row16 col0\" >bahrain</td>\n",
       "      <td id=\"T_807e8_row16_col1\" class=\"data row16 col1\" >nico_hulkenberg</td>\n",
       "      <td id=\"T_807e8_row16_col2\" class=\"data row16 col2\" >17</td>\n",
       "      <td id=\"T_807e8_row16_col3\" class=\"data row16 col3\" >17</td>\n",
       "      <td id=\"T_807e8_row16_col4\" class=\"data row16 col4\" >0.404006</td>\n",
       "    </tr>\n",
       "    <tr>\n",
       "      <th id=\"T_807e8_level0_row17\" class=\"row_heading level0 row17\" >3152</th>\n",
       "      <td id=\"T_807e8_row17_col0\" class=\"data row17 col0\" >bahrain</td>\n",
       "      <td id=\"T_807e8_row17_col1\" class=\"data row17 col1\" >daniel_ricciardo</td>\n",
       "      <td id=\"T_807e8_row17_col2\" class=\"data row17 col2\" >14</td>\n",
       "      <td id=\"T_807e8_row17_col3\" class=\"data row17 col3\" >18</td>\n",
       "      <td id=\"T_807e8_row17_col4\" class=\"data row17 col4\" >0.277751</td>\n",
       "    </tr>\n",
       "    <tr>\n",
       "      <th id=\"T_807e8_level0_row18\" class=\"row_heading level0 row18\" >3150</th>\n",
       "      <td id=\"T_807e8_row18_col0\" class=\"data row18 col0\" >bahrain</td>\n",
       "      <td id=\"T_807e8_row18_col1\" class=\"data row18 col1\" >lance_stroll</td>\n",
       "      <td id=\"T_807e8_row18_col2\" class=\"data row18 col2\" >12</td>\n",
       "      <td id=\"T_807e8_row18_col3\" class=\"data row18 col3\" >19</td>\n",
       "      <td id=\"T_807e8_row18_col4\" class=\"data row18 col4\" >0.187131</td>\n",
       "    </tr>\n",
       "    <tr>\n",
       "      <th id=\"T_807e8_level0_row19\" class=\"row_heading level0 row19\" >3154</th>\n",
       "      <td id=\"T_807e8_row19_col0\" class=\"data row19 col0\" >bahrain</td>\n",
       "      <td id=\"T_807e8_row19_col1\" class=\"data row19 col1\" >nicholas_latifi</td>\n",
       "      <td id=\"T_807e8_row19_col2\" class=\"data row19 col2\" >16</td>\n",
       "      <td id=\"T_807e8_row19_col3\" class=\"data row19 col3\" >20</td>\n",
       "      <td id=\"T_807e8_row19_col4\" class=\"data row19 col4\" >0.123534</td>\n",
       "    </tr>\n",
       "  </tbody>\n",
       "</table>\n"
      ],
      "text/plain": [
       "<pandas.io.formats.style.Styler at 0x133e96a90>"
      ]
     },
     "execution_count": 24,
     "metadata": {},
     "output_type": "execute_result"
    }
   ],
   "source": [
    "q = test.query('round == 1')[['circuit_id', 'driver', 'podium', 'starting_grid', 'predicted_points']].sort_values('predicted_points', ascending=False)\n",
    "q.style.set_properties(color='white').apply(highlight_row, axis=1)"
   ]
  }
 ],
 "metadata": {
  "kernelspec": {
   "display_name": "Python 3.11.0 64-bit",
   "language": "python",
   "name": "python3"
  },
  "language_info": {
   "codemirror_mode": {
    "name": "ipython",
    "version": 3
   },
   "file_extension": ".py",
   "mimetype": "text/x-python",
   "name": "python",
   "nbconvert_exporter": "python",
   "pygments_lexer": "ipython3",
   "version": "3.11.0"
  },
  "orig_nbformat": 4,
  "vscode": {
   "interpreter": {
    "hash": "aee8b7b246df8f9039afb4144a1f6fd8d2ca17a180786b69acc140d282b71a49"
   }
  }
 },
 "nbformat": 4,
 "nbformat_minor": 2
}
